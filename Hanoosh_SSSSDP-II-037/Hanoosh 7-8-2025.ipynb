{
 "cells": [
  {
   "cell_type": "markdown",
   "id": "76c0797c",
   "metadata": {},
   "source": [
    "'''\n",
    "Write  a  program  to  determine  largest  command  line  input\n",
    "\n",
    "1) py   prog2.py   10     20     30.8   7  40    35.6\n",
    "    What  is  the  largest  command  line  input ?  ---> 40\n",
    "    What  is  argv ?  --->  ['prog2.py' , '10' , '20' , '30.8' , '7' , '40' , '35.6']\n",
    "    What  is  list  'a' ?  --->  [10 , 20 , 30.8 , 7 , 40 , 35.6]\n",
    "    How  to  determine  largest  element  of  list  'a' ?   ---> max(a)  i.e.  40\n",
    "    What  is  the  result  of  max(argv[1:]) ?  ---> '7'\n",
    "    What  is  the  issue  with  max(argv[1:])) ?  --->\n",
    "\t\t\t\t\t\t\t\t\t\t\t\t\tLargest  string  is  obtained  but  not  largest  number\n",
    "\n",
    "2) py  prog2.py\n",
    "    What  is  the  output ?  ---> Pls  send  inputs\n",
    "\n",
    "3) py   prog2.py   'Rama'   'Sita'   'Rajesh'   'Manohar'   'Vamsi'   'Amar'\n",
    "    What  is  the  largest  command  line  input ?  --->  'Vamsi'\n",
    "\n",
    "4) py   prog2.py   25   'Ten'\n",
    "    What  is  the  output ?  --->  Inputs  can  not  be  number  and  string\n",
    "\n",
    "5) Hint1: Use  for  loop\n",
    "\n",
    "6) Hint2: Use  try  and  except\n",
    "'''"
   ]
  },
  {
   "cell_type": "code",
   "execution_count": 3,
   "id": "63fd7189",
   "metadata": {},
   "outputs": [
    {
     "name": "stdout",
     "output_type": "stream",
     "text": [
      "Rm a\n",
      "Rama Ra\n",
      "ma\n",
      "ma Rao\n",
      "Rama\n",
      "Rm a\n",
      "ma Ra\n",
      "ma Rao\n",
      "oaR\n",
      "Ra\n",
      "Rao\n",
      "Rama Rao\n",
      "Rama Rao\n",
      "oaR amaR\n",
      "oRaa\n",
      "a mR\n",
      "ma Rao\n",
      "\n",
      "oaR a\n",
      "ma \n",
      "aaR\n",
      "o\n",
      "m\n",
      "m\n",
      "oaR ama\n",
      "aa\n"
     ]
    }
   ],
   "source": [
    "'''  (Home  work)\n",
    "Slice  demo  program\n",
    "0      1       2        3      4       5       6       7\n",
    "R      a      m        a               R       a       o\n",
    "-8    -7     -6      -5     -4      -3     -2      -1\n",
    "'''\n",
    "a = 'Rama Rao'\n",
    "print(a [ : 7 : 2])\n",
    "print(a [ : 7])\n",
    "print(a [2 : 4])\n",
    "print(a [2 : ])\n",
    "print(a [ : 4 ])\n",
    "print(a [ : : 2])\n",
    "print(a [-6 : -1])\n",
    "print(a [-6 : ])\n",
    "print(a [: -4 : -1])\n",
    "print(a [-3 : -1]) #  a[-3 : -1 : 1]  --->  string  from  indexes  -3  to  -2  in  steps  of  1  i.e.  Ra\n",
    "print(a [-3 : ])\n",
    "print(a [ : : ])\n",
    "print(a [ : ])\n",
    "print(a [ : : -1])\n",
    "print(a [ : : -2])\n",
    "print(a [ -2 : : -2])  #  a[-2 : -9 : -2]  --->  string  from  indexes  -2  to  -8  in  steps  of  -2  i.e.  a<space>mR\n",
    "print(a [2 : 8])\n",
    "print(a [2 : 8 : -1])\n",
    "print(a [ : -6 : -1])\n",
    "print(a [2 : -3])\n",
    "print(a [1 : 6 : 2])\n",
    "print(a [ : -5 : -5])\n",
    "print(a [2 : -5])\n",
    "print(a [2 : -5 : 2])\n",
    "print(a [ : 0 : -1])\n",
    "print(a [-5 : 0 : -2])"
   ]
  },
  {
   "cell_type": "code",
   "execution_count": null,
   "id": "14b72950",
   "metadata": {},
   "outputs": [],
   "source": []
  }
 ],
 "metadata": {
  "kernelspec": {
   "display_name": "Python 3",
   "language": "python",
   "name": "python3"
  },
  "language_info": {
   "codemirror_mode": {
    "name": "ipython",
    "version": 3
   },
   "file_extension": ".py",
   "mimetype": "text/x-python",
   "name": "python",
   "nbconvert_exporter": "python",
   "pygments_lexer": "ipython3",
   "version": "3.13.5"
  }
 },
 "nbformat": 4,
 "nbformat_minor": 5
}
