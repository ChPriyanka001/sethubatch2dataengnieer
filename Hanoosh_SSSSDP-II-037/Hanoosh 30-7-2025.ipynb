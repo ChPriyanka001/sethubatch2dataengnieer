{
 "cells": [
  {
   "cell_type": "markdown",
   "id": "485bdbe3",
   "metadata": {},
   "source": [
    "'''\n",
    "Write  a  program  to  print  full  pyramid\n",
    "\t *\n",
    "   ***\n",
    "  *****\n",
    " *******\n",
    "*********\n",
    "Input  is  number  of  lines\n",
    "'''"
   ]
  },
  {
   "cell_type": "code",
   "execution_count": null,
   "id": "3f15976d",
   "metadata": {},
   "outputs": [],
   "source": [
    "a = int(input(\"How many number of lines : \"))\n",
    "i = 1\n",
    "\n",
    "while i <= n:\n",
    "    spaces = n - i\n",
    "    stars = 2 * i - 1\n",
    "\n",
    "    j = 1\n",
    "\n",
    "    while j <= spaces:\n",
    "        print(\" \", end=\"\")\n",
    "        j += 1\n",
    "\n",
    "    k = 1\n",
    "    while k <= stars:\n",
    "        print(\"*\", end=\"\")\n",
    "        k += 1\n",
    "\n",
    "    print()\n",
    "\n",
    "    i += 1"
   ]
  }
 ],
 "metadata": {
  "kernelspec": {
   "display_name": "Python 3",
   "language": "python",
   "name": "python3"
  },
  "language_info": {
   "codemirror_mode": {
    "name": "ipython",
    "version": 3
   },
   "file_extension": ".py",
   "mimetype": "text/x-python",
   "name": "python",
   "nbconvert_exporter": "python",
   "pygments_lexer": "ipython3",
   "version": "3.13.5"
  }
 },
 "nbformat": 4,
 "nbformat_minor": 5
}
