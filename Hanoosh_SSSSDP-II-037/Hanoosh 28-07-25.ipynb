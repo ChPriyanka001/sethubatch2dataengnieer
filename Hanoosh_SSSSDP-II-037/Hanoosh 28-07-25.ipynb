{
 "cells": [
  {
   "cell_type": "markdown",
   "id": "07c972ef",
   "metadata": {},
   "source": [
    "# Identify  error\n",
    "else:\n",
    "\t\tprint('else  suite')\n",
    "print('Outside') # Don't write else without if "
   ]
  },
  {
   "cell_type": "markdown",
   "id": "517afcb1",
   "metadata": {},
   "source": [
    "# Identify  error\n",
    "if  9 > 5 # colon is missing\n",
    "\tprint('Hello') \n",
    "print('Bye')  "
   ]
  },
  {
   "cell_type": "markdown",
   "id": "f0123b5a",
   "metadata": {},
   "source": [
    "# Identify  error\n",
    "if  9 > 12:\n",
    "\tprint('Hyd')\n",
    "else # colon is missing\n",
    "\tprint('Sec')"
   ]
  },
  {
   "cell_type": "markdown",
   "id": "14359e81",
   "metadata": {},
   "source": [
    "# Identify  error\n",
    "if  (10,20,15):\n",
    "print('Hyd') # Indentation error\n",
    "else:\n",
    "print('Sec') # Indentation error"
   ]
  },
  {
   "cell_type": "markdown",
   "id": "17923a5e",
   "metadata": {},
   "source": [
    "# Identify  error\n",
    "if  ():\n",
    "\t\t\tprint('Hyd')\n",
    "\telse: # indentation error\n",
    "\t\t\t\t\tprint('Sec')\n",
    "print('Bye') "
   ]
  },
  {
   "cell_type": "markdown",
   "id": "67bf425f",
   "metadata": {},
   "source": [
    "# Identify  error\n",
    "if  { }: # braces is not allowed\n",
    "{\n",
    "\tprint('One')\n",
    "\tprint('Two')\n",
    "\tprint('Three')\n",
    "}\n",
    "else:\n",
    "{\n",
    "\tprint('Four')\n",
    "\tprint('Five')\n",
    "\tprint('Six')\n",
    "}\n",
    "print('Bye')"
   ]
  },
  {
   "cell_type": "markdown",
   "id": "c5908a46",
   "metadata": {},
   "source": []
  },
  {
   "cell_type": "markdown",
   "id": "b89893a3",
   "metadata": {},
   "source": [
    "# Identify  error\n",
    "if  ():\n",
    "\tprint('One')\n",
    "\tprint('Two')\n",
    "\tprint('Three')\n",
    "else:\n",
    "if  []: # indentation error\n",
    "\tprint('Four')\n",
    "\tprint('Five')\n",
    "\tprint('Six')\n",
    "else:\n",
    "if  {}:\n",
    "\tprint('Seven')\n",
    "\tprint('Eight')\n",
    "\tprint('Nine')\n",
    "else:\n",
    "\tprint('Hyd')\n",
    "\tprint('Sec')\n",
    "\tprint('Cyb')\n",
    "print('Bye')"
   ]
  },
  {
   "cell_type": "markdown",
   "id": "67928f01",
   "metadata": {},
   "source": [
    "# Find outputs  (Home  work)\n",
    "if():\n",
    "        print('Hyd')\n",
    "        print('Sec')\n",
    "        print('Cyb')\n",
    "else:\n",
    "        print('One')\n",
    "        print('Two')\n",
    "        print('Three')\n",
    "print('Bye')\n",
    " \n",
    "outputs:-\n",
    "One\n",
    "Two\n",
    "Three\n",
    "Bye"
   ]
  },
  {
   "cell_type": "markdown",
   "id": "f31e4ed6",
   "metadata": {},
   "source": [
    "# Find  outputs  (Home  work)\n",
    "if{10 : 20 , 30 : 40}:\n",
    "        print('Hyd')\n",
    "        print('Sec')\n",
    "        print('Cyb')\n",
    "print('Bye')\n",
    "\n",
    "outputs:-\n",
    "Bye"
   ]
  },
  {
   "cell_type": "markdown",
   "id": "07cc745a",
   "metadata": {},
   "source": [
    "# Find outputs  (Home  work)\n",
    "if { }:\n",
    "\tprint('Hyd')\n",
    "\tprint('Sec')\n",
    "\tprint('Cyb')\n",
    "print('Bye')\n",
    "\n",
    "outputs:-\n",
    "Bye"
   ]
  },
  {
   "cell_type": "markdown",
   "id": "cfbbcfad",
   "metadata": {},
   "source": [
    "'''\n",
    "Write  a  program  to  add ,  subtract , multiply  and  divide  two  complex  numbers\n",
    "\n",
    "First  complex  number   --->  3 + 4j\n",
    "2nd   complex  number   --->  5 + 6j\n",
    "What  is  the  sum ? ---> (3 + 4j) + (5 + 6j) = 8 + 10j\n",
    "What  is  the  difference ?  ---> (3 + 4j) - (5 + 6j) =  -2 - 2j\n",
    "What  is  the  product ?  ---> (3 + 4j) * (5 + 6j) =  15 + 18j + 20j - 24 =  -9 + 38j\n",
    "\n",
    "\n",
    "What  is  the  division ?  ---> (3 + 4j) / (5 + 6j) = (3 + 4j) * (5 - 6j) / (5 + 6j) * (5 -6j)\n",
    "                                                                         =   (15 - 18j + 20j + 24) / (25 + 36)\n",
    "\t\t\t\t\t\t\t\t\t\t\t\t\t\t\t\t\t\t = 39 / 61 + 2j / 61\t\t\t\t\t\t\t\t\t\t\t   \n",
    "'''"
   ]
  },
  {
   "cell_type": "code",
   "execution_count": null,
   "id": "c165e1ae",
   "metadata": {},
   "outputs": [],
   "source": [
    "a = eval(input(\"First complex number \"))\n",
    "b = eval(input(\"2nd complex number\"))\n",
    "sum = print(f'{a} + {b} = {a+b}')\n",
    "difference = print(f'{a} - {b} = {a-b}')\n",
    "product = print(f'{a} * {b} = {a*b}')\n",
    "division = print(f'{a} / {b} = {a/b}')\n"
   ]
  },
  {
   "cell_type": "markdown",
   "id": "680d4059",
   "metadata": {},
   "source": [
    "# Write  a  program  to  determine  a  number  is  even  or  odd  with   if  statement"
   ]
  },
  {
   "cell_type": "code",
   "execution_count": null,
   "id": "f7d6a1d2",
   "metadata": {},
   "outputs": [],
   "source": [
    "a = int(input(\"Enter a number : \"))\n",
    "if a % 2 == 0 :\n",
    "    print(\"Even number\")\n",
    "else :\n",
    "    print(\"Odd number\")\n",
    "    "
   ]
  },
  {
   "cell_type": "markdown",
   "id": "a9113545",
   "metadata": {},
   "source": [
    "# Write   a  program  to  print  month  name  for  input  month  number  by  using  if  and  elif  (Home  work)     \n",
    "\n",
    "Enter month number (1 - 12): 6\n",
    "June\n",
    "\n",
    "Enter month number (1 - 12): 13\n",
    "Input  should  be  between  1  and   12\n",
    "\n",
    "Enter month number (1 - 12): 10.8\n",
    "Input  should  be  an  integer"
   ]
  },
  {
   "cell_type": "code",
   "execution_count": null,
   "id": "994e14a2",
   "metadata": {},
   "outputs": [],
   "source": [
    "try:\n",
    "    import calendar\n",
    "    x = int(input(\"Enter month number : \"))\n",
    "    if x == 1 :\n",
    "        print(\"January\")\n",
    "    elif x == 2 :\n",
    "        print(\"February\")\n",
    "    elif x == 3 :\n",
    "        print(\"March\")\n",
    "    elif x == 4 :\n",
    "        print(\"April\")\n",
    "    elif x == 5 :\n",
    "        print(\"May\")\n",
    "    elif x == 6 :\n",
    "        print(\"June\")\n",
    "    elif x == 7 :\n",
    "        print(\"July\")\n",
    "    elif x == 8 :\n",
    "        print(\"August\")\n",
    "    elif x == 9 :\n",
    "        print(\"September\")\n",
    "    elif x == 10 :\n",
    "        print(\"October\")\n",
    "    elif x == 11 :\n",
    "        print(\"November\")\n",
    "    elif x == 12 :\n",
    "        print(\"December\")\n",
    "except:\n",
    "    Valueerror : print(\"Input  should  be  between  1  and   12\")\n",
    "    Typeerror : print(\"Input  should  be  an  integer\")\n",
    "    "
   ]
  },
  {
   "cell_type": "markdown",
   "id": "1a4639f6",
   "metadata": {},
   "source": [
    "'''\n",
    "Write  a  program  to  print  digit  in  words  with  else  and  if  (do  not  use  elif)\n",
    "0 - Zero\n",
    "1 - One\n",
    "2 - Two\n",
    "....\n",
    "9 - Nine\n",
    "10 - Invalid\n",
    "'''"
   ]
  },
  {
   "cell_type": "code",
   "execution_count": null,
   "id": "ab0c3e77",
   "metadata": {},
   "outputs": [],
   "source": [
    "try:\n",
    "    x = int(input(\"Enter a digit : \"))\n",
    "    if x == 0:\n",
    "        print(\"zero\")\n",
    "    else:\n",
    "        if x== 1:\n",
    "            print(\"One\")\n",
    "        else :\n",
    "            if x==2:\n",
    "                print(\"Two\")\n",
    "            else:\n",
    "                if x==3:\n",
    "                    print(\"Three\")\n",
    "                else:\n",
    "                    if x==4:\n",
    "                        print(\"Four\")\n",
    "                    else:\n",
    "                        if x == 5 :\n",
    "                            print(\"Five\")\n",
    "                        else:\n",
    "                            if x==6:\n",
    "                                print(\"Six\")\n",
    "                            else:\n",
    "                                if x == 7:\n",
    "                                    print(\"Seven\")\n",
    "                                else:\n",
    "                                    if x==8:\n",
    "                                        print(\"Eight\")\n",
    "                                    else:\n",
    "                                        if x==9:\n",
    "                                            print(\"Nine\")\n",
    "                                        else:\n",
    "                                            if x == 10:\n",
    "                                                print(\"Invalid\")\n",
    "                                            else:\n",
    "except:\n",
    "    print(\"The number should between 1-10\")\n"
   ]
  }
 ],
 "metadata": {
  "kernelspec": {
   "display_name": "Python 3",
   "language": "python",
   "name": "python3"
  },
  "language_info": {
   "codemirror_mode": {
    "name": "ipython",
    "version": 3
   },
   "file_extension": ".py",
   "mimetype": "text/x-python",
   "name": "python",
   "nbconvert_exporter": "python",
   "pygments_lexer": "ipython3",
   "version": "3.13.5"
  }
 },
 "nbformat": 4,
 "nbformat_minor": 5
}
