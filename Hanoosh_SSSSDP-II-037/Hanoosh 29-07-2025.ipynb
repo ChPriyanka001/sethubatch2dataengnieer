{
 "cells": [
  {
   "cell_type": "markdown",
   "id": "b838b355",
   "metadata": {},
   "source": [
    "'''\n",
    "Write  a  program  to  test  year  is  leap  year  or  not\n",
    "\n",
    "1) What  is  leap  year ?  --->  Divisible  by  4  but  not  by  100   (or)  divisble  by  400\n",
    "\n",
    "2) Are  2016 , 2020 , 2024  leap  years ? --->  Yes  becoz  leap  year  for  every  4  yearrs\n",
    "\n",
    "3) Are  1700 , 1800 , 1900  leap  years ? --->  No  becoz  no  leap  year  for  every  100  years\n",
    "\n",
    "4) Are  1600 , 2000 , 2400  leap  years ?  --->  Yes  becoz  leap  year  for  every  400  years\n",
    "\n",
    "5) Hint:  single  if  with  3  conditions  and  else\n",
    "'''"
   ]
  },
  {
   "cell_type": "code",
   "execution_count": null,
   "id": "040a96d3",
   "metadata": {},
   "outputs": [
    {
     "name": "stdout",
     "output_type": "stream",
     "text": [
      "It is a Leap year...\n"
     ]
    }
   ],
   "source": [
    "x = int(input(\"Enter a Year : \"))\n",
    "if (x % 4 == 0 and x % 100 != 0) or x % 400 == 0  :\n",
    "    print(\"It is a Leap year...\")\n",
    "else:\n",
    "    print(\"It is not a leap year...\")"
   ]
  },
  {
   "cell_type": "markdown",
   "id": "d9a7120d",
   "metadata": {},
   "source": [
    "'''\n",
    "Write  a  program  to  determine  largest  of  three  numbers  with  if  and  else\n",
    "\n",
    "Hint:  Write  multiple  conditions\n",
    "'''\n"
   ]
  },
  {
   "cell_type": "code",
   "execution_count": null,
   "id": "2cc43393",
   "metadata": {},
   "outputs": [
    {
     "name": "stdout",
     "output_type": "stream",
     "text": [
      "40.0\n"
     ]
    }
   ],
   "source": [
    "x , y , z = [float(i) for i in input(\"Enter Three numbers\"). split()]\n",
    "if (x > y and x > z) :\n",
    "    print(x)\n",
    "elif y>=x and y>=z :\n",
    "    print(y)\n",
    "else:\n",
    "    print(z)\n",
    "    "
   ]
  },
  {
   "cell_type": "markdown",
   "id": "6221c1ad",
   "metadata": {},
   "source": [
    "'''\n",
    "Write  a  program  to  convert  celsius  temperature  to  farenheit  and  vice-versa\n",
    "\n",
    "1) What  is  the  formula  to  convert  celsius  to  farenheit ? --->  1.8 * temp + 32\n",
    "\n",
    "2) What  is  the  formula  to  convert  farenheit  to  celsius ?  --->  (temp - 32) / 1.8\n",
    "'''"
   ]
  },
  {
   "cell_type": "code",
   "execution_count": null,
   "id": "07dd19e8",
   "metadata": {},
   "outputs": [
    {
     "name": "stdout",
     "output_type": "stream",
     "text": [
      "Enter only 1 or 2 \n"
     ]
    }
   ],
   "source": [
    "\n",
    "x = int(input(\"Enter 1 to convert celsius to farenheit or Enter 2 to convert farenheit to celsius \") )\n",
    "if x == 1:\n",
    "    temp = float(input(\"Enter celsius temprature : \" ))\n",
    "    C = print(1.8 * temp + 32)\n",
    "elif x == 2:\n",
    "    temp = float(input(\"Enter farenheit temprature : \" ))\n",
    "    F = print((temp -32) / 1.8)\n",
    "else:\n",
    "    print(\"invalid input \")\n"
   ]
  },
  {
   "cell_type": "markdown",
   "id": "4b47ea78",
   "metadata": {},
   "source": [
    "'''\n",
    "Write  a  program  to  test  a  point  (x , y)  lies  in  1st  quadrant , 2nd  quadrant , 3rd  quadrant ,\n",
    "4th  quadrant , x - axis , y - axis   or  origin\n",
    "\n",
    "1) What  are  the  values  of  x  and  y  in  1st  quadrant ?  --->  Both  are  +ve\n",
    "\n",
    "2) What  are  the  values  of  x  and  y  in  2nd  quadrant ?  --->  'x'  is  -ve  and  'y'  is  +ve\n",
    "\n",
    "3) What  are  the  values  of  x  and  y  in  3rd  quadrant ?  ---> Both   are  -ve\n",
    "\n",
    "4) What  are  the  values  of  x  and  y  in  4th  quadrant ?  --->  'x'  is   +ve  and  'y'  is  -ve\n",
    "\n",
    "5) What  are  the  values  of  x  and  y  on  x - axis ?  ---> 'x'  is  non-zero  and  'y'  is  0\n",
    "\n",
    "6) What  are  the  values  of  x  and  y  on  y - axis ?  --->  'x'  is  0  and  'y'  is  non-zero\n",
    "\n",
    "7) What  are  the  values  of  x  and  y  if  point  is  origin ?  --->  Both  are  zeroes\n",
    "\n",
    "8) Hint:  Use  if  ..   elif\n",
    "'''\n"
   ]
  },
  {
   "cell_type": "code",
   "execution_count": null,
   "id": "0c09fb67",
   "metadata": {},
   "outputs": [],
   "source": []
  },
  {
   "cell_type": "markdown",
   "id": "149bee96",
   "metadata": {},
   "source": [
    "'''\n",
    "Write  a  program  to  determine  largest , smallest  and  middle  of  three  numbers\n",
    "\n",
    "a = 10\n",
    "b = 20\n",
    "c = 7\n",
    "max =  20\n",
    "min =  7\n",
    "mid =  (10 + 20 + 7) - (20 + 7) = 10\n",
    "\n",
    "1) What  is  the  initial  value  of  max  ?  --->  a\n",
    "\n",
    "2) Whichever  input >  max,  assign  that  input  to  max\n",
    "\n",
    "3) What  is  the  initial  value  of  min  ?  --->  'a'\n",
    "\n",
    "4) Whichever  input  <  min,  assign  that  input  to  min\n",
    "\n",
    "5) How  to  obtain  middle  number ?  ---> Eliminate  max  and  min  from  a , b , c\n",
    "\n",
    "6) Hint : Do  not  use  else  in  the  program\n",
    "'''"
   ]
  },
  {
   "cell_type": "code",
   "execution_count": null,
   "id": "7f9d410f",
   "metadata": {},
   "outputs": [],
   "source": [
    "x = int(input(\"\"))"
   ]
  }
 ],
 "metadata": {
  "kernelspec": {
   "display_name": "Python 3",
   "language": "python",
   "name": "python3"
  },
  "language_info": {
   "codemirror_mode": {
    "name": "ipython",
    "version": 3
   },
   "file_extension": ".py",
   "mimetype": "text/x-python",
   "name": "python",
   "nbconvert_exporter": "python",
   "pygments_lexer": "ipython3",
   "version": "3.13.5"
  }
 },
 "nbformat": 4,
 "nbformat_minor": 5
}
