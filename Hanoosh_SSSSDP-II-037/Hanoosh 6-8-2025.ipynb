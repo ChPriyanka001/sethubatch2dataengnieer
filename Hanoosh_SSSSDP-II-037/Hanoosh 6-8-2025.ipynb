{
 "cells": [
  {
   "cell_type": "markdown",
   "id": "0dc3d754",
   "metadata": {},
   "source": [
    "'''\n",
    "Modify  following   program  with  walrus  operator\n",
    "Hint:  Combine  lines  7   and   8  to a  single  line  with   walrus  operator\n",
    "'''\n",
    "try:\n",
    "\tsum =  ctr = 0\n",
    "\twhile  True:\n",
    "\t\tx = eval(input('Enter input  (ctrl + z  to  stop)  :  '))\n",
    "\t\tsum += x\n",
    "\t\tctr +=1\n",
    "except  EOFError:\n",
    "\ttry:\n",
    "\t\tprint(F'Average :   {sum / ctr}')\n",
    "\texcept  ZeroDivisionError:\n",
    "\t\tprint('Enter  at  least  one  input')\n",
    "except  (NameError , TypeError):\n",
    "\tprint('Input  can  not  be  string')"
   ]
  },
  {
   "cell_type": "code",
   "execution_count": 27,
   "id": "be407a18",
   "metadata": {},
   "outputs": [
    {
     "name": "stdout",
     "output_type": "stream",
     "text": [
      "10\n",
      "30\n"
     ]
    },
    {
     "ename": "SyntaxError",
     "evalue": "invalid syntax (<string>, line 0)",
     "output_type": "error",
     "traceback": [
      "Traceback \u001b[36m(most recent call last)\u001b[39m:\n",
      "  File \u001b[92m~\\AppData\\Local\\Packages\\PythonSoftwareFoundation.Python.3.13_qbz5n2kfra8p0\\LocalCache\\local-packages\\Python313\\site-packages\\IPython\\core\\interactiveshell.py:3699\u001b[39m in \u001b[95mrun_code\u001b[39m\n    exec(code_obj, self.user_global_ns, self.user_ns)\n",
      "\u001b[36m  \u001b[39m\u001b[36mCell\u001b[39m\u001b[36m \u001b[39m\u001b[32mIn[27]\u001b[39m\u001b[32m, line 7\u001b[39m\n\u001b[31m    \u001b[39m\u001b[31mwhile  (x := eval(input('Enter input  (ctrl + z  to  stop)  :  '))):\u001b[39m\n",
      "  \u001b[36mFile \u001b[39m\u001b[32m<string>\u001b[39m\n\u001b[31m    \u001b[39m\n    ^\n\u001b[31mSyntaxError\u001b[39m\u001b[31m:\u001b[39m invalid syntax\n"
     ]
    }
   ],
   "source": [
    "'''\n",
    "Modify  following   program  with  walrus  operator\n",
    "Hint:  Combine  lines  7   and   8  to a  single  line  with   walrus  operator\n",
    "'''\n",
    "try:\n",
    "\tsum =  ctr = 0\n",
    "\twhile  (x := eval(input('Enter input  (ctrl + z  to  stop)  :  '))):\n",
    "\t\tsum += x\n",
    "\t\tctr +=1\n",
    "\t\tprint(sum)\n",
    "except  EOFError:\n",
    "\ttry:\n",
    "\t\tprint(F'Average :   {sum / ctr}')\n",
    "\texcept  ZeroDivisionError:\n",
    "\t\tprint('Enter  at  least  one  input')\n",
    "except  (NameError , TypeError):\n",
    "\tprint('Input  can  not  be  string')"
   ]
  }
 ],
 "metadata": {
  "kernelspec": {
   "display_name": "Python 3",
   "language": "python",
   "name": "python3"
  },
  "language_info": {
   "codemirror_mode": {
    "name": "ipython",
    "version": 3
   },
   "file_extension": ".py",
   "mimetype": "text/x-python",
   "name": "python",
   "nbconvert_exporter": "python",
   "pygments_lexer": "ipython3",
   "version": "3.13.5"
  }
 },
 "nbformat": 4,
 "nbformat_minor": 5
}
